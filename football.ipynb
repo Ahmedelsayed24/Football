{
 "cells": [
  {
   "cell_type": "markdown",
   "id": "4b1476a7",
   "metadata": {
    "papermill": {
     "duration": 0.007387,
     "end_time": "2023-09-10T16:27:04.101029",
     "exception": false,
     "start_time": "2023-09-10T16:27:04.093642",
     "status": "completed"
    },
    "tags": []
   },
   "source": [
    "# **Import data**"
   ]
  },
  {
   "cell_type": "code",
   "execution_count": 1,
   "id": "06a142a7",
   "metadata": {
    "execution": {
     "iopub.execute_input": "2023-09-10T16:27:04.116866Z",
     "iopub.status.busy": "2023-09-10T16:27:04.116468Z",
     "iopub.status.idle": "2023-09-10T16:27:30.030351Z",
     "shell.execute_reply": "2023-09-10T16:27:30.029339Z"
    },
    "papermill": {
     "duration": 25.924757,
     "end_time": "2023-09-10T16:27:30.032672",
     "exception": false,
     "start_time": "2023-09-10T16:27:04.107915",
     "status": "completed"
    },
    "tags": []
   },
   "outputs": [
    {
     "name": "stderr",
     "output_type": "stream",
     "text": [
      "/opt/conda/lib/python3.10/site-packages/scipy/__init__.py:146: UserWarning: A NumPy version >=1.16.5 and <1.23.0 is required for this version of SciPy (detected version 1.23.5\n",
      "  warnings.warn(f\"A NumPy version >={np_minversion} and <{np_maxversion}\"\n"
     ]
    },
    {
     "data": {
      "text/html": [
       "<div>\n",
       "<style scoped>\n",
       "    .dataframe tbody tr th:only-of-type {\n",
       "        vertical-align: middle;\n",
       "    }\n",
       "\n",
       "    .dataframe tbody tr th {\n",
       "        vertical-align: top;\n",
       "    }\n",
       "\n",
       "    .dataframe thead th {\n",
       "        text-align: right;\n",
       "    }\n",
       "</style>\n",
       "<table border=\"1\" class=\"dataframe\">\n",
       "  <thead>\n",
       "    <tr style=\"text-align: right;\">\n",
       "      <th></th>\n",
       "      <th>type</th>\n",
       "      <th>name</th>\n",
       "      <th>tbl_name</th>\n",
       "      <th>rootpage</th>\n",
       "      <th>sql</th>\n",
       "    </tr>\n",
       "  </thead>\n",
       "  <tbody>\n",
       "    <tr>\n",
       "      <th>0</th>\n",
       "      <td>table</td>\n",
       "      <td>sqlite_sequence</td>\n",
       "      <td>sqlite_sequence</td>\n",
       "      <td>4</td>\n",
       "      <td>CREATE TABLE sqlite_sequence(name,seq)</td>\n",
       "    </tr>\n",
       "    <tr>\n",
       "      <th>1</th>\n",
       "      <td>table</td>\n",
       "      <td>Player_Attributes</td>\n",
       "      <td>Player_Attributes</td>\n",
       "      <td>11</td>\n",
       "      <td>CREATE TABLE \"Player_Attributes\" (\\n\\t`id`\\tIN...</td>\n",
       "    </tr>\n",
       "    <tr>\n",
       "      <th>2</th>\n",
       "      <td>table</td>\n",
       "      <td>Player</td>\n",
       "      <td>Player</td>\n",
       "      <td>14</td>\n",
       "      <td>CREATE TABLE `Player` (\\n\\t`id`\\tINTEGER PRIMA...</td>\n",
       "    </tr>\n",
       "    <tr>\n",
       "      <th>3</th>\n",
       "      <td>table</td>\n",
       "      <td>Match</td>\n",
       "      <td>Match</td>\n",
       "      <td>18</td>\n",
       "      <td>CREATE TABLE `Match` (\\n\\t`id`\\tINTEGER PRIMAR...</td>\n",
       "    </tr>\n",
       "    <tr>\n",
       "      <th>4</th>\n",
       "      <td>table</td>\n",
       "      <td>League</td>\n",
       "      <td>League</td>\n",
       "      <td>24</td>\n",
       "      <td>CREATE TABLE `League` (\\n\\t`id`\\tINTEGER PRIMA...</td>\n",
       "    </tr>\n",
       "    <tr>\n",
       "      <th>5</th>\n",
       "      <td>table</td>\n",
       "      <td>Country</td>\n",
       "      <td>Country</td>\n",
       "      <td>26</td>\n",
       "      <td>CREATE TABLE `Country` (\\n\\t`id`\\tINTEGER PRIM...</td>\n",
       "    </tr>\n",
       "    <tr>\n",
       "      <th>6</th>\n",
       "      <td>table</td>\n",
       "      <td>Team</td>\n",
       "      <td>Team</td>\n",
       "      <td>29</td>\n",
       "      <td>CREATE TABLE \"Team\" (\\n\\t`id`\\tINTEGER PRIMARY...</td>\n",
       "    </tr>\n",
       "    <tr>\n",
       "      <th>7</th>\n",
       "      <td>table</td>\n",
       "      <td>Team_Attributes</td>\n",
       "      <td>Team_Attributes</td>\n",
       "      <td>2</td>\n",
       "      <td>CREATE TABLE `Team_Attributes` (\\n\\t`id`\\tINTE...</td>\n",
       "    </tr>\n",
       "  </tbody>\n",
       "</table>\n",
       "</div>"
      ],
      "text/plain": [
       "    type               name           tbl_name  rootpage  \\\n",
       "0  table    sqlite_sequence    sqlite_sequence         4   \n",
       "1  table  Player_Attributes  Player_Attributes        11   \n",
       "2  table             Player             Player        14   \n",
       "3  table              Match              Match        18   \n",
       "4  table             League             League        24   \n",
       "5  table            Country            Country        26   \n",
       "6  table               Team               Team        29   \n",
       "7  table    Team_Attributes    Team_Attributes         2   \n",
       "\n",
       "                                                 sql  \n",
       "0             CREATE TABLE sqlite_sequence(name,seq)  \n",
       "1  CREATE TABLE \"Player_Attributes\" (\\n\\t`id`\\tIN...  \n",
       "2  CREATE TABLE `Player` (\\n\\t`id`\\tINTEGER PRIMA...  \n",
       "3  CREATE TABLE `Match` (\\n\\t`id`\\tINTEGER PRIMAR...  \n",
       "4  CREATE TABLE `League` (\\n\\t`id`\\tINTEGER PRIMA...  \n",
       "5  CREATE TABLE `Country` (\\n\\t`id`\\tINTEGER PRIM...  \n",
       "6  CREATE TABLE \"Team\" (\\n\\t`id`\\tINTEGER PRIMARY...  \n",
       "7  CREATE TABLE `Team_Attributes` (\\n\\t`id`\\tINTE...  "
      ]
     },
     "execution_count": 1,
     "metadata": {},
     "output_type": "execute_result"
    }
   ],
   "source": [
    "import pandas as pd # data processing, CSV file I/O (e.g. pd.read_csv)\n",
    "import sqlite3\n",
    "import matplotlib.pyplot as plt\n",
    "from datetime import datetime\n",
    "import seaborn as sns\n",
    "import calendar\n",
    "import ipywidgets as widgets\n",
    "from IPython.display import display\n",
    "\n",
    "path = \"../input/soccer/\"  #Insert path here\n",
    "db = path + 'database.sqlite'\n",
    "conn = sqlite3.connect(db)\n",
    "\n",
    "with sqlite3.connect(db) as con:\n",
    "    countries = pd.read_sql_query(\"SELECT * from Country\", con)\n",
    "    matches = pd.read_sql_query(\"SELECT * from Match\", con)\n",
    "    leagues = pd.read_sql_query(\"SELECT * from League\", con)\n",
    "    teams = pd.read_sql_query(\"SELECT * from Team\", con)\n",
    "    Player_detail = pd.read_sql_query(\"SELECT * from Player_Attributes\", con)\n",
    "    Player = pd.read_sql_query(\"SELECT * from Player\", con)\n",
    "    \n",
    "\n",
    "tables = pd.read_sql(\"\"\"SELECT *\n",
    "                        FROM sqlite_master\n",
    "                        WHERE type='table';\"\"\", conn)\n",
    "tables"
   ]
  },
  {
   "cell_type": "markdown",
   "id": "152103c8",
   "metadata": {
    "papermill": {
     "duration": 0.007095,
     "end_time": "2023-09-10T16:27:30.047733",
     "exception": false,
     "start_time": "2023-09-10T16:27:30.040638",
     "status": "completed"
    },
    "tags": []
   },
   "source": [
    "# **Which match has the highest number of goals scored each season?**"
   ]
  },
  {
   "cell_type": "code",
   "execution_count": 2,
   "id": "de645b5e",
   "metadata": {
    "execution": {
     "iopub.execute_input": "2023-09-10T16:27:30.063715Z",
     "iopub.status.busy": "2023-09-10T16:27:30.063247Z",
     "iopub.status.idle": "2023-09-10T16:27:51.463303Z",
     "shell.execute_reply": "2023-09-10T16:27:51.462243Z"
    },
    "papermill": {
     "duration": 21.410881,
     "end_time": "2023-09-10T16:27:51.465602",
     "exception": false,
     "start_time": "2023-09-10T16:27:30.054721",
     "status": "completed"
    },
    "tags": []
   },
   "outputs": [
    {
     "data": {
      "text/html": [
       "<div>\n",
       "<style scoped>\n",
       "    .dataframe tbody tr th:only-of-type {\n",
       "        vertical-align: middle;\n",
       "    }\n",
       "\n",
       "    .dataframe tbody tr th {\n",
       "        vertical-align: top;\n",
       "    }\n",
       "\n",
       "    .dataframe thead th {\n",
       "        text-align: right;\n",
       "    }\n",
       "</style>\n",
       "<table border=\"1\" class=\"dataframe\">\n",
       "  <thead>\n",
       "    <tr style=\"text-align: right;\">\n",
       "      <th></th>\n",
       "      <th>name</th>\n",
       "      <th>home_team</th>\n",
       "      <th>away_team</th>\n",
       "      <th>home_goals</th>\n",
       "      <th>away_goals</th>\n",
       "      <th>total_goals</th>\n",
       "      <th>season</th>\n",
       "    </tr>\n",
       "  </thead>\n",
       "  <tbody>\n",
       "    <tr>\n",
       "      <th>0</th>\n",
       "      <td>Germany 1. Bundesliga</td>\n",
       "      <td>SV Werder Bremen</td>\n",
       "      <td>TSG 1899 Hoffenheim</td>\n",
       "      <td>5</td>\n",
       "      <td>4</td>\n",
       "      <td>9</td>\n",
       "      <td>2008</td>\n",
       "    </tr>\n",
       "    <tr>\n",
       "      <th>1</th>\n",
       "      <td>England Premier League</td>\n",
       "      <td>Tottenham Hotspur</td>\n",
       "      <td>Wigan Athletic</td>\n",
       "      <td>9</td>\n",
       "      <td>1</td>\n",
       "      <td>10</td>\n",
       "      <td>2009</td>\n",
       "    </tr>\n",
       "    <tr>\n",
       "      <th>2</th>\n",
       "      <td>Scotland Premier League</td>\n",
       "      <td>Motherwell</td>\n",
       "      <td>Hibernian</td>\n",
       "      <td>6</td>\n",
       "      <td>6</td>\n",
       "      <td>12</td>\n",
       "      <td>2010</td>\n",
       "    </tr>\n",
       "    <tr>\n",
       "      <th>3</th>\n",
       "      <td>England Premier League</td>\n",
       "      <td>Manchester United</td>\n",
       "      <td>Arsenal</td>\n",
       "      <td>8</td>\n",
       "      <td>2</td>\n",
       "      <td>10</td>\n",
       "      <td>2011</td>\n",
       "    </tr>\n",
       "    <tr>\n",
       "      <th>4</th>\n",
       "      <td>England Premier League</td>\n",
       "      <td>Arsenal</td>\n",
       "      <td>Newcastle United</td>\n",
       "      <td>7</td>\n",
       "      <td>3</td>\n",
       "      <td>10</td>\n",
       "      <td>2012</td>\n",
       "    </tr>\n",
       "    <tr>\n",
       "      <th>5</th>\n",
       "      <td>Germany 1. Bundesliga</td>\n",
       "      <td>FC Bayern Munich</td>\n",
       "      <td>Hamburger SV</td>\n",
       "      <td>9</td>\n",
       "      <td>2</td>\n",
       "      <td>11</td>\n",
       "      <td>2013</td>\n",
       "    </tr>\n",
       "    <tr>\n",
       "      <th>6</th>\n",
       "      <td>Spain LIGA BBVA</td>\n",
       "      <td>RC Deportivo de La Coruña</td>\n",
       "      <td>Real Madrid CF</td>\n",
       "      <td>2</td>\n",
       "      <td>8</td>\n",
       "      <td>10</td>\n",
       "      <td>2014</td>\n",
       "    </tr>\n",
       "    <tr>\n",
       "      <th>7</th>\n",
       "      <td>Spain LIGA BBVA</td>\n",
       "      <td>Real Madrid CF</td>\n",
       "      <td>Rayo Vallecano</td>\n",
       "      <td>10</td>\n",
       "      <td>2</td>\n",
       "      <td>12</td>\n",
       "      <td>2015</td>\n",
       "    </tr>\n",
       "    <tr>\n",
       "      <th>8</th>\n",
       "      <td>England Premier League</td>\n",
       "      <td>Norwich City</td>\n",
       "      <td>Liverpool</td>\n",
       "      <td>4</td>\n",
       "      <td>5</td>\n",
       "      <td>9</td>\n",
       "      <td>2016</td>\n",
       "    </tr>\n",
       "  </tbody>\n",
       "</table>\n",
       "</div>"
      ],
      "text/plain": [
       "                      name                  home_team            away_team  \\\n",
       "0    Germany 1. Bundesliga           SV Werder Bremen  TSG 1899 Hoffenheim   \n",
       "1   England Premier League          Tottenham Hotspur       Wigan Athletic   \n",
       "2  Scotland Premier League                 Motherwell            Hibernian   \n",
       "3   England Premier League          Manchester United              Arsenal   \n",
       "4   England Premier League                    Arsenal     Newcastle United   \n",
       "5    Germany 1. Bundesliga           FC Bayern Munich         Hamburger SV   \n",
       "6          Spain LIGA BBVA  RC Deportivo de La Coruña       Real Madrid CF   \n",
       "7          Spain LIGA BBVA             Real Madrid CF       Rayo Vallecano   \n",
       "8   England Premier League               Norwich City            Liverpool   \n",
       "\n",
       "   home_goals  away_goals  total_goals season  \n",
       "0           5           4            9   2008  \n",
       "1           9           1           10   2009  \n",
       "2           6           6           12   2010  \n",
       "3           8           2           10   2011  \n",
       "4           7           3           10   2012  \n",
       "5           9           2           11   2013  \n",
       "6           2           8           10   2014  \n",
       "7          10           2           12   2015  \n",
       "8           4           5            9   2016  "
      ]
     },
     "execution_count": 2,
     "metadata": {},
     "output_type": "execute_result"
    }
   ],
   "source": [
    "mostgoals = pd.read_sql(\n",
    "\"\"\"\n",
    "SELECT subquery.name, subquery.home_team,subquery.away_team, subquery.home_goals ,subquery.away_goals ,\n",
    "MAX(subquery.max_goals) AS total_goals, subquery.season\n",
    "FROM(\n",
    "SELECT l.name, t1.team_long_name AS home_team, t2.team_long_name AS away_team, m.home_team_goal AS home_goals, m.away_team_goal AS away_goals, strftime('%Y', m.date) AS season, MAX(m.home_team_goal + m.away_team_goal) AS max_goals\n",
    "FROM league AS l\n",
    "INNER JOIN match AS m ON l.id = m.league_id\n",
    "INNER JOIN team AS t1 ON m.home_team_api_id = t1.team_api_id\n",
    "INNER JOIN team AS t2 ON m.away_team_api_id = t2.team_api_id\n",
    "GROUP BY l.name, home_team, season\n",
    "ORDER BY max_goals DESC ) as subquery\n",
    "GROUP BY subquery.season\n",
    "\n",
    "\"\"\", conn\n",
    ")\n",
    "\n",
    "mostgoals"
   ]
  },
  {
   "cell_type": "markdown",
   "id": "83b5d7a1",
   "metadata": {
    "papermill": {
     "duration": 0.00751,
     "end_time": "2023-09-10T16:27:51.481005",
     "exception": false,
     "start_time": "2023-09-10T16:27:51.473495",
     "status": "completed"
    },
    "tags": []
   },
   "source": [
    "# **Which team has the highest number of wins in their home or away games each season?**"
   ]
  },
  {
   "cell_type": "code",
   "execution_count": 3,
   "id": "514f209f",
   "metadata": {
    "execution": {
     "iopub.execute_input": "2023-09-10T16:27:51.497322Z",
     "iopub.status.busy": "2023-09-10T16:27:51.496382Z",
     "iopub.status.idle": "2023-09-10T16:28:11.225523Z",
     "shell.execute_reply": "2023-09-10T16:28:11.224302Z"
    },
    "papermill": {
     "duration": 19.740034,
     "end_time": "2023-09-10T16:28:11.228228",
     "exception": false,
     "start_time": "2023-09-10T16:27:51.488194",
     "status": "completed"
    },
    "tags": []
   },
   "outputs": [
    {
     "data": {
      "text/html": [
       "<div>\n",
       "<style scoped>\n",
       "    .dataframe tbody tr th:only-of-type {\n",
       "        vertical-align: middle;\n",
       "    }\n",
       "\n",
       "    .dataframe tbody tr th {\n",
       "        vertical-align: top;\n",
       "    }\n",
       "\n",
       "    .dataframe thead th {\n",
       "        text-align: right;\n",
       "    }\n",
       "</style>\n",
       "<table border=\"1\" class=\"dataframe\">\n",
       "  <thead>\n",
       "    <tr style=\"text-align: right;\">\n",
       "      <th></th>\n",
       "      <th>name</th>\n",
       "      <th>team</th>\n",
       "      <th>max_home_wins</th>\n",
       "      <th>season</th>\n",
       "    </tr>\n",
       "  </thead>\n",
       "  <tbody>\n",
       "    <tr>\n",
       "      <th>0</th>\n",
       "      <td>England Premier League</td>\n",
       "      <td>Manchester United</td>\n",
       "      <td>16</td>\n",
       "      <td>2008</td>\n",
       "    </tr>\n",
       "    <tr>\n",
       "      <th>1</th>\n",
       "      <td>Spain LIGA BBVA</td>\n",
       "      <td>FC Barcelona</td>\n",
       "      <td>18</td>\n",
       "      <td>2009</td>\n",
       "    </tr>\n",
       "    <tr>\n",
       "      <th>2</th>\n",
       "      <td>England Premier League</td>\n",
       "      <td>Manchester United</td>\n",
       "      <td>18</td>\n",
       "      <td>2010</td>\n",
       "    </tr>\n",
       "    <tr>\n",
       "      <th>3</th>\n",
       "      <td>England Premier League</td>\n",
       "      <td>Manchester City</td>\n",
       "      <td>18</td>\n",
       "      <td>2011</td>\n",
       "    </tr>\n",
       "    <tr>\n",
       "      <th>4</th>\n",
       "      <td>Spain LIGA BBVA</td>\n",
       "      <td>FC Barcelona</td>\n",
       "      <td>18</td>\n",
       "      <td>2012</td>\n",
       "    </tr>\n",
       "    <tr>\n",
       "      <th>5</th>\n",
       "      <td>Italy Serie A</td>\n",
       "      <td>Juventus</td>\n",
       "      <td>19</td>\n",
       "      <td>2013</td>\n",
       "    </tr>\n",
       "    <tr>\n",
       "      <th>6</th>\n",
       "      <td>Italy Serie A</td>\n",
       "      <td>Juventus</td>\n",
       "      <td>16</td>\n",
       "      <td>2014</td>\n",
       "    </tr>\n",
       "    <tr>\n",
       "      <th>7</th>\n",
       "      <td>Italy Serie A</td>\n",
       "      <td>Juventus</td>\n",
       "      <td>16</td>\n",
       "      <td>2015</td>\n",
       "    </tr>\n",
       "    <tr>\n",
       "      <th>8</th>\n",
       "      <td>Portugal Liga ZON Sagres</td>\n",
       "      <td>Estoril Praia</td>\n",
       "      <td>9</td>\n",
       "      <td>2016</td>\n",
       "    </tr>\n",
       "  </tbody>\n",
       "</table>\n",
       "</div>"
      ],
      "text/plain": [
       "                       name               team  max_home_wins season\n",
       "0    England Premier League  Manchester United             16   2008\n",
       "1           Spain LIGA BBVA       FC Barcelona             18   2009\n",
       "2    England Premier League  Manchester United             18   2010\n",
       "3    England Premier League    Manchester City             18   2011\n",
       "4           Spain LIGA BBVA       FC Barcelona             18   2012\n",
       "5             Italy Serie A           Juventus             19   2013\n",
       "6             Italy Serie A           Juventus             16   2014\n",
       "7             Italy Serie A           Juventus             16   2015\n",
       "8  Portugal Liga ZON Sagres      Estoril Praia              9   2016"
      ]
     },
     "execution_count": 3,
     "metadata": {},
     "output_type": "execute_result"
    }
   ],
   "source": [
    "#home\n",
    "homewins = pd.read_sql(\n",
    "\"\"\"\n",
    "SELECT subquery.name, subquery.team, MAX(subquery.home_wins) AS max_home_wins, subquery.season\n",
    "FROM (\n",
    "    SELECT l.name, t1.team_long_name AS team, COUNT(*) AS home_wins, strftime('%Y', m.date) AS season\n",
    "    FROM league AS l\n",
    "    INNER JOIN match AS m ON l.id = m.league_id\n",
    "    INNER JOIN team AS t1 ON m.home_team_api_id = t1.team_api_id\n",
    "    WHERE m.home_team_goal > m.away_team_goal\n",
    "    GROUP BY l.name, team, season\n",
    ") AS subquery\n",
    "GROUP BY subquery.season;\n",
    "\"\"\", conn)\n",
    "homewins"
   ]
  },
  {
   "cell_type": "code",
   "execution_count": 4,
   "id": "e9c8f971",
   "metadata": {
    "execution": {
     "iopub.execute_input": "2023-09-10T16:28:11.245397Z",
     "iopub.status.busy": "2023-09-10T16:28:11.245076Z",
     "iopub.status.idle": "2023-09-10T16:28:26.891023Z",
     "shell.execute_reply": "2023-09-10T16:28:26.890109Z"
    },
    "papermill": {
     "duration": 15.656958,
     "end_time": "2023-09-10T16:28:26.893323",
     "exception": false,
     "start_time": "2023-09-10T16:28:11.236365",
     "status": "completed"
    },
    "tags": []
   },
   "outputs": [
    {
     "data": {
      "text/html": [
       "<div>\n",
       "<style scoped>\n",
       "    .dataframe tbody tr th:only-of-type {\n",
       "        vertical-align: middle;\n",
       "    }\n",
       "\n",
       "    .dataframe tbody tr th {\n",
       "        vertical-align: top;\n",
       "    }\n",
       "\n",
       "    .dataframe thead th {\n",
       "        text-align: right;\n",
       "    }\n",
       "</style>\n",
       "<table border=\"1\" class=\"dataframe\">\n",
       "  <thead>\n",
       "    <tr style=\"text-align: right;\">\n",
       "      <th></th>\n",
       "      <th>name</th>\n",
       "      <th>team</th>\n",
       "      <th>max_away_wins</th>\n",
       "      <th>season</th>\n",
       "    </tr>\n",
       "  </thead>\n",
       "  <tbody>\n",
       "    <tr>\n",
       "      <th>0</th>\n",
       "      <td>England Premier League</td>\n",
       "      <td>Chelsea</td>\n",
       "      <td>14</td>\n",
       "      <td>2008</td>\n",
       "    </tr>\n",
       "    <tr>\n",
       "      <th>1</th>\n",
       "      <td>Spain LIGA BBVA</td>\n",
       "      <td>FC Barcelona</td>\n",
       "      <td>13</td>\n",
       "      <td>2009</td>\n",
       "    </tr>\n",
       "    <tr>\n",
       "      <th>2</th>\n",
       "      <td>Scotland Premier League</td>\n",
       "      <td>Rangers</td>\n",
       "      <td>16</td>\n",
       "      <td>2010</td>\n",
       "    </tr>\n",
       "    <tr>\n",
       "      <th>3</th>\n",
       "      <td>Spain LIGA BBVA</td>\n",
       "      <td>Real Madrid CF</td>\n",
       "      <td>16</td>\n",
       "      <td>2011</td>\n",
       "    </tr>\n",
       "    <tr>\n",
       "      <th>4</th>\n",
       "      <td>Germany 1. Bundesliga</td>\n",
       "      <td>FC Bayern Munich</td>\n",
       "      <td>15</td>\n",
       "      <td>2012</td>\n",
       "    </tr>\n",
       "    <tr>\n",
       "      <th>5</th>\n",
       "      <td>Scotland Premier League</td>\n",
       "      <td>Celtic</td>\n",
       "      <td>15</td>\n",
       "      <td>2013</td>\n",
       "    </tr>\n",
       "    <tr>\n",
       "      <th>6</th>\n",
       "      <td>Scotland Premier League</td>\n",
       "      <td>Celtic</td>\n",
       "      <td>14</td>\n",
       "      <td>2014</td>\n",
       "    </tr>\n",
       "    <tr>\n",
       "      <th>7</th>\n",
       "      <td>France Ligue 1</td>\n",
       "      <td>Paris Saint-Germain</td>\n",
       "      <td>15</td>\n",
       "      <td>2015</td>\n",
       "    </tr>\n",
       "    <tr>\n",
       "      <th>8</th>\n",
       "      <td>Italy Serie A</td>\n",
       "      <td>Roma</td>\n",
       "      <td>10</td>\n",
       "      <td>2016</td>\n",
       "    </tr>\n",
       "  </tbody>\n",
       "</table>\n",
       "</div>"
      ],
      "text/plain": [
       "                      name                 team  max_away_wins season\n",
       "0   England Premier League              Chelsea             14   2008\n",
       "1          Spain LIGA BBVA         FC Barcelona             13   2009\n",
       "2  Scotland Premier League              Rangers             16   2010\n",
       "3          Spain LIGA BBVA       Real Madrid CF             16   2011\n",
       "4    Germany 1. Bundesliga     FC Bayern Munich             15   2012\n",
       "5  Scotland Premier League               Celtic             15   2013\n",
       "6  Scotland Premier League               Celtic             14   2014\n",
       "7           France Ligue 1  Paris Saint-Germain             15   2015\n",
       "8            Italy Serie A                 Roma             10   2016"
      ]
     },
     "execution_count": 4,
     "metadata": {},
     "output_type": "execute_result"
    }
   ],
   "source": [
    "#away\n",
    "awaywins = pd.read_sql(\n",
    "\"\"\"\n",
    "SELECT subquery.name, subquery.team, MAX(subquery.away_wins) AS max_away_wins, subquery.season\n",
    "FROM (\n",
    "    SELECT l.name, t1.team_long_name AS team, COUNT(*) AS away_wins, strftime('%Y', m.date) AS season\n",
    "    FROM league AS l\n",
    "    INNER JOIN match AS m ON l.id = m.league_id\n",
    "    INNER JOIN team AS t1 ON m.away_team_api_id = t1.team_api_id\n",
    "    WHERE m.home_team_goal < m.away_team_goal\n",
    "    GROUP BY l.name, team, season\n",
    ") AS subquery\n",
    "GROUP BY subquery.season;\n",
    "\"\"\", conn)\n",
    "awaywins"
   ]
  },
  {
   "cell_type": "markdown",
   "id": "1e36ac82",
   "metadata": {
    "papermill": {
     "duration": 0.007982,
     "end_time": "2023-09-10T16:28:26.909509",
     "exception": false,
     "start_time": "2023-09-10T16:28:26.901527",
     "status": "completed"
    },
    "tags": []
   },
   "source": [
    "# **Top 3 players each season**"
   ]
  },
  {
   "cell_type": "code",
   "execution_count": 5,
   "id": "c24a8692",
   "metadata": {
    "execution": {
     "iopub.execute_input": "2023-09-10T16:28:26.926777Z",
     "iopub.status.busy": "2023-09-10T16:28:26.925923Z",
     "iopub.status.idle": "2023-09-10T16:28:28.362817Z",
     "shell.execute_reply": "2023-09-10T16:28:28.361834Z"
    },
    "papermill": {
     "duration": 1.448549,
     "end_time": "2023-09-10T16:28:28.365615",
     "exception": false,
     "start_time": "2023-09-10T16:28:26.917066",
     "status": "completed"
    },
    "tags": []
   },
   "outputs": [
    {
     "data": {
      "text/html": [
       "<div>\n",
       "<style scoped>\n",
       "    .dataframe tbody tr th:only-of-type {\n",
       "        vertical-align: middle;\n",
       "    }\n",
       "\n",
       "    .dataframe tbody tr th {\n",
       "        vertical-align: top;\n",
       "    }\n",
       "\n",
       "    .dataframe thead th {\n",
       "        text-align: right;\n",
       "    }\n",
       "</style>\n",
       "<table border=\"1\" class=\"dataframe\">\n",
       "  <thead>\n",
       "    <tr style=\"text-align: right;\">\n",
       "      <th></th>\n",
       "      <th>player_name</th>\n",
       "      <th>overall_rating</th>\n",
       "      <th>season</th>\n",
       "      <th>Rank</th>\n",
       "    </tr>\n",
       "  </thead>\n",
       "  <tbody>\n",
       "    <tr>\n",
       "      <th>0</th>\n",
       "      <td>Alessandro Nesta</td>\n",
       "      <td>91</td>\n",
       "      <td>2007</td>\n",
       "      <td>1</td>\n",
       "    </tr>\n",
       "    <tr>\n",
       "      <th>1</th>\n",
       "      <td>Cristiano Ronaldo</td>\n",
       "      <td>91</td>\n",
       "      <td>2007</td>\n",
       "      <td>2</td>\n",
       "    </tr>\n",
       "    <tr>\n",
       "      <th>2</th>\n",
       "      <td>Gianluigi Buffon</td>\n",
       "      <td>91</td>\n",
       "      <td>2007</td>\n",
       "      <td>3</td>\n",
       "    </tr>\n",
       "    <tr>\n",
       "      <th>3</th>\n",
       "      <td>Cristiano Ronaldo</td>\n",
       "      <td>91</td>\n",
       "      <td>2008</td>\n",
       "      <td>1</td>\n",
       "    </tr>\n",
       "    <tr>\n",
       "      <th>4</th>\n",
       "      <td>Iker Casillas</td>\n",
       "      <td>91</td>\n",
       "      <td>2008</td>\n",
       "      <td>2</td>\n",
       "    </tr>\n",
       "    <tr>\n",
       "      <th>5</th>\n",
       "      <td>Gianluigi Buffon</td>\n",
       "      <td>90</td>\n",
       "      <td>2008</td>\n",
       "      <td>3</td>\n",
       "    </tr>\n",
       "    <tr>\n",
       "      <th>6</th>\n",
       "      <td>Iker Casillas</td>\n",
       "      <td>90</td>\n",
       "      <td>2009</td>\n",
       "      <td>1</td>\n",
       "    </tr>\n",
       "    <tr>\n",
       "      <th>7</th>\n",
       "      <td>Lionel Messi</td>\n",
       "      <td>90</td>\n",
       "      <td>2009</td>\n",
       "      <td>2</td>\n",
       "    </tr>\n",
       "    <tr>\n",
       "      <th>8</th>\n",
       "      <td>Cristiano Ronaldo</td>\n",
       "      <td>89</td>\n",
       "      <td>2009</td>\n",
       "      <td>3</td>\n",
       "    </tr>\n",
       "    <tr>\n",
       "      <th>9</th>\n",
       "      <td>Lionel Messi</td>\n",
       "      <td>90</td>\n",
       "      <td>2010</td>\n",
       "      <td>1</td>\n",
       "    </tr>\n",
       "    <tr>\n",
       "      <th>10</th>\n",
       "      <td>Cristiano Ronaldo</td>\n",
       "      <td>89</td>\n",
       "      <td>2010</td>\n",
       "      <td>2</td>\n",
       "    </tr>\n",
       "    <tr>\n",
       "      <th>11</th>\n",
       "      <td>Iker Casillas</td>\n",
       "      <td>89</td>\n",
       "      <td>2010</td>\n",
       "      <td>3</td>\n",
       "    </tr>\n",
       "    <tr>\n",
       "      <th>12</th>\n",
       "      <td>Lionel Messi</td>\n",
       "      <td>94</td>\n",
       "      <td>2011</td>\n",
       "      <td>1</td>\n",
       "    </tr>\n",
       "    <tr>\n",
       "      <th>13</th>\n",
       "      <td>Cristiano Ronaldo</td>\n",
       "      <td>92</td>\n",
       "      <td>2011</td>\n",
       "      <td>2</td>\n",
       "    </tr>\n",
       "    <tr>\n",
       "      <th>14</th>\n",
       "      <td>Xavi Hernandez</td>\n",
       "      <td>92</td>\n",
       "      <td>2011</td>\n",
       "      <td>3</td>\n",
       "    </tr>\n",
       "    <tr>\n",
       "      <th>15</th>\n",
       "      <td>Lionel Messi</td>\n",
       "      <td>94</td>\n",
       "      <td>2012</td>\n",
       "      <td>1</td>\n",
       "    </tr>\n",
       "    <tr>\n",
       "      <th>16</th>\n",
       "      <td>Cristiano Ronaldo</td>\n",
       "      <td>92</td>\n",
       "      <td>2012</td>\n",
       "      <td>2</td>\n",
       "    </tr>\n",
       "    <tr>\n",
       "      <th>17</th>\n",
       "      <td>Andres Iniesta</td>\n",
       "      <td>90</td>\n",
       "      <td>2012</td>\n",
       "      <td>3</td>\n",
       "    </tr>\n",
       "    <tr>\n",
       "      <th>18</th>\n",
       "      <td>Lionel Messi</td>\n",
       "      <td>94</td>\n",
       "      <td>2013</td>\n",
       "      <td>1</td>\n",
       "    </tr>\n",
       "    <tr>\n",
       "      <th>19</th>\n",
       "      <td>Cristiano Ronaldo</td>\n",
       "      <td>92</td>\n",
       "      <td>2013</td>\n",
       "      <td>2</td>\n",
       "    </tr>\n",
       "    <tr>\n",
       "      <th>20</th>\n",
       "      <td>Franck Ribery</td>\n",
       "      <td>90</td>\n",
       "      <td>2013</td>\n",
       "      <td>3</td>\n",
       "    </tr>\n",
       "    <tr>\n",
       "      <th>21</th>\n",
       "      <td>Lionel Messi</td>\n",
       "      <td>93</td>\n",
       "      <td>2014</td>\n",
       "      <td>1</td>\n",
       "    </tr>\n",
       "    <tr>\n",
       "      <th>22</th>\n",
       "      <td>Cristiano Ronaldo</td>\n",
       "      <td>92</td>\n",
       "      <td>2014</td>\n",
       "      <td>2</td>\n",
       "    </tr>\n",
       "    <tr>\n",
       "      <th>23</th>\n",
       "      <td>Arjen Robben</td>\n",
       "      <td>90</td>\n",
       "      <td>2014</td>\n",
       "      <td>3</td>\n",
       "    </tr>\n",
       "    <tr>\n",
       "      <th>24</th>\n",
       "      <td>Lionel Messi</td>\n",
       "      <td>94</td>\n",
       "      <td>2015</td>\n",
       "      <td>1</td>\n",
       "    </tr>\n",
       "    <tr>\n",
       "      <th>25</th>\n",
       "      <td>Cristiano Ronaldo</td>\n",
       "      <td>93</td>\n",
       "      <td>2015</td>\n",
       "      <td>2</td>\n",
       "    </tr>\n",
       "    <tr>\n",
       "      <th>26</th>\n",
       "      <td>Arjen Robben</td>\n",
       "      <td>90</td>\n",
       "      <td>2015</td>\n",
       "      <td>3</td>\n",
       "    </tr>\n",
       "    <tr>\n",
       "      <th>27</th>\n",
       "      <td>Manuel Neuer</td>\n",
       "      <td>90</td>\n",
       "      <td>2016</td>\n",
       "      <td>1</td>\n",
       "    </tr>\n",
       "    <tr>\n",
       "      <th>28</th>\n",
       "      <td>Neymar</td>\n",
       "      <td>90</td>\n",
       "      <td>2016</td>\n",
       "      <td>2</td>\n",
       "    </tr>\n",
       "    <tr>\n",
       "      <th>29</th>\n",
       "      <td>Arjen Robben</td>\n",
       "      <td>89</td>\n",
       "      <td>2016</td>\n",
       "      <td>3</td>\n",
       "    </tr>\n",
       "  </tbody>\n",
       "</table>\n",
       "</div>"
      ],
      "text/plain": [
       "          player_name  overall_rating season  Rank\n",
       "0    Alessandro Nesta              91   2007     1\n",
       "1   Cristiano Ronaldo              91   2007     2\n",
       "2    Gianluigi Buffon              91   2007     3\n",
       "3   Cristiano Ronaldo              91   2008     1\n",
       "4       Iker Casillas              91   2008     2\n",
       "5    Gianluigi Buffon              90   2008     3\n",
       "6       Iker Casillas              90   2009     1\n",
       "7        Lionel Messi              90   2009     2\n",
       "8   Cristiano Ronaldo              89   2009     3\n",
       "9        Lionel Messi              90   2010     1\n",
       "10  Cristiano Ronaldo              89   2010     2\n",
       "11      Iker Casillas              89   2010     3\n",
       "12       Lionel Messi              94   2011     1\n",
       "13  Cristiano Ronaldo              92   2011     2\n",
       "14     Xavi Hernandez              92   2011     3\n",
       "15       Lionel Messi              94   2012     1\n",
       "16  Cristiano Ronaldo              92   2012     2\n",
       "17     Andres Iniesta              90   2012     3\n",
       "18       Lionel Messi              94   2013     1\n",
       "19  Cristiano Ronaldo              92   2013     2\n",
       "20      Franck Ribery              90   2013     3\n",
       "21       Lionel Messi              93   2014     1\n",
       "22  Cristiano Ronaldo              92   2014     2\n",
       "23       Arjen Robben              90   2014     3\n",
       "24       Lionel Messi              94   2015     1\n",
       "25  Cristiano Ronaldo              93   2015     2\n",
       "26       Arjen Robben              90   2015     3\n",
       "27       Manuel Neuer              90   2016     1\n",
       "28             Neymar              90   2016     2\n",
       "29       Arjen Robben              89   2016     3"
      ]
     },
     "execution_count": 5,
     "metadata": {},
     "output_type": "execute_result"
    }
   ],
   "source": [
    "Top3 = pd.read_sql(\n",
    "    \"\"\"\n",
    "SELECT DISTINCT subquery.player_name, subquery.overall_rating, subquery.season ,subquery.Rank\n",
    "FROM (\n",
    "    SELECT DISTINCT p.player_name, f.overall_rating, strftime('%Y', f.date) AS season,\n",
    "        ROW_NUMBER() OVER(PARTITION BY strftime('%Y', f.date) ORDER BY f.overall_rating DESC) AS Rank\n",
    "    FROM player AS p\n",
    "    INNER JOIN player_attributes AS f\n",
    "    USING(player_api_id)\n",
    "    GROUP BY player_name ,season\n",
    ") AS subquery\n",
    "WHERE subquery.Rank <= 3 \n",
    "GROUP BY subquery.season, subquery.Rank;\n",
    "    \"\"\", conn)\n",
    "Top3\n"
   ]
  },
  {
   "cell_type": "markdown",
   "id": "c6ca78c4",
   "metadata": {
    "papermill": {
     "duration": 0.011572,
     "end_time": "2023-09-10T16:28:28.390768",
     "exception": false,
     "start_time": "2023-09-10T16:28:28.379196",
     "status": "completed"
    },
    "tags": []
   },
   "source": [
    "# **leagues**"
   ]
  },
  {
   "cell_type": "markdown",
   "id": "e850878a",
   "metadata": {
    "papermill": {
     "duration": 0.011218,
     "end_time": "2023-09-10T16:28:28.413537",
     "exception": false,
     "start_time": "2023-09-10T16:28:28.402319",
     "status": "completed"
    },
    "tags": []
   },
   "source": [
    "**Total goals for leagues in the season**"
   ]
  },
  {
   "cell_type": "code",
   "execution_count": 6,
   "id": "dc6bad26",
   "metadata": {
    "execution": {
     "iopub.execute_input": "2023-09-10T16:28:28.438324Z",
     "iopub.status.busy": "2023-09-10T16:28:28.437811Z",
     "iopub.status.idle": "2023-09-10T16:28:29.041053Z",
     "shell.execute_reply": "2023-09-10T16:28:29.040146Z"
    },
    "papermill": {
     "duration": 0.618559,
     "end_time": "2023-09-10T16:28:29.043712",
     "exception": false,
     "start_time": "2023-09-10T16:28:28.425153",
     "status": "completed"
    },
    "tags": []
   },
   "outputs": [
    {
     "data": {
      "application/vnd.jupyter.widget-view+json": {
       "model_id": "83192b591cf04beb843ac53ba2520c1e",
       "version_major": 2,
       "version_minor": 0
      },
      "text/plain": [
       "Dropdown(description='Select Year', options=(2008, 2009, 2010, 2011, 2012, 2013, 2014, 2015, 2016), value=2008…"
      ]
     },
     "metadata": {},
     "output_type": "display_data"
    },
    {
     "data": {
      "application/vnd.jupyter.widget-view+json": {
       "model_id": "ba2911876bcc40ddb916b65a9dec0858",
       "version_major": 2,
       "version_minor": 0
      },
      "text/plain": [
       "interactive(children=(Dropdown(description='Select Year', options=(2008, 2009, 2010, 2011, 2012, 2013, 2014, 2…"
      ]
     },
     "metadata": {},
     "output_type": "display_data"
    },
    {
     "data": {
      "text/plain": [
       "<function __main__.updateplot(year)>"
      ]
     },
     "execution_count": 6,
     "metadata": {},
     "output_type": "execute_result"
    }
   ],
   "source": [
    "matches['goals'] = matches['home_team_goal'] + matches['away_team_goal']\n",
    "\n",
    "matches = matches.merge(leagues, left_on='league_id', right_on='id', suffixes=('_matches', '_leagues'))\n",
    "\n",
    "matches['date'] = pd.to_datetime(matches['date'])\n",
    "\n",
    "matches['Year'] = matches['date'].dt.year\n",
    "\n",
    "year_dropdown = widgets.Dropdown(options=matches['Year'].unique(), description='Select Year')\n",
    "\n",
    "def updateplot(year):\n",
    "    filteredmatches = matches[matches['Year'] == year]\n",
    "    goalspername = filteredmatches.groupby('name')['goals'].sum()\n",
    "    plt.figure(figsize=(10, 6))\n",
    "    sns.barplot(x=goalspername.values, y=goalspername.index, order=goalspername.sort_values(ascending=False).index)\n",
    "    plt.xticks(rotation=90)\n",
    "    plt.ylabel('league')\n",
    "    plt.xlabel('goals')\n",
    "    plt.title(f'Total goals for leagues in {year}')\n",
    "    plt.show()\n",
    "\n",
    "display(year_dropdown)\n",
    "\n",
    "widgets.interact(updateplot, year=year_dropdown)"
   ]
  },
  {
   "cell_type": "markdown",
   "id": "d4c53f3f",
   "metadata": {
    "papermill": {
     "duration": 0.012578,
     "end_time": "2023-09-10T16:28:29.074469",
     "exception": false,
     "start_time": "2023-09-10T16:28:29.061891",
     "status": "completed"
    },
    "tags": []
   },
   "source": [
    "**Top 10 Teams with the Highest Wins in Season**"
   ]
  },
  {
   "cell_type": "code",
   "execution_count": 7,
   "id": "0222a38f",
   "metadata": {
    "execution": {
     "iopub.execute_input": "2023-09-10T16:28:29.100857Z",
     "iopub.status.busy": "2023-09-10T16:28:29.100528Z",
     "iopub.status.idle": "2023-09-10T16:28:29.632822Z",
     "shell.execute_reply": "2023-09-10T16:28:29.631754Z"
    },
    "papermill": {
     "duration": 0.548346,
     "end_time": "2023-09-10T16:28:29.635447",
     "exception": false,
     "start_time": "2023-09-10T16:28:29.087101",
     "status": "completed"
    },
    "tags": []
   },
   "outputs": [
    {
     "data": {
      "application/vnd.jupyter.widget-view+json": {
       "model_id": "38c65e94534c4b5ca1574f88499f6849",
       "version_major": 2,
       "version_minor": 0
      },
      "text/plain": [
       "Dropdown(description='Select Year', options=(2008, 2009, 2010, 2011, 2012, 2013, 2014, 2015, 2016), value=2008…"
      ]
     },
     "metadata": {},
     "output_type": "display_data"
    },
    {
     "data": {
      "application/vnd.jupyter.widget-view+json": {
       "model_id": "61c01d10fe6a4abbade89f593b3ccdef",
       "version_major": 2,
       "version_minor": 0
      },
      "text/plain": [
       "interactive(children=(Dropdown(description='Select Year', options=(2008, 2009, 2010, 2011, 2012, 2013, 2014, 2…"
      ]
     },
     "metadata": {},
     "output_type": "display_data"
    },
    {
     "data": {
      "text/plain": [
       "<function __main__.update_plot(year)>"
      ]
     },
     "execution_count": 7,
     "metadata": {},
     "output_type": "execute_result"
    }
   ],
   "source": [
    "matches['date'] = pd.to_datetime(matches['date'])\n",
    "\n",
    "matches['Year'] = matches['date'].dt.year\n",
    "\n",
    "merged_data = matches.merge(teams, left_on='home_team_api_id', right_on='team_api_id')\n",
    "merged_data = merged_data.merge(teams, left_on='away_team_api_id', right_on='team_api_id', suffixes=('_home', '_away'))\n",
    "\n",
    "year_dropdown = widgets.Dropdown(options=matches['Year'].unique(), description='Select Year')\n",
    "\n",
    "def update_plot(year):\n",
    "    filtered_data = merged_data[merged_data['Year'] == year]\n",
    "    \n",
    "    home_wins = filtered_data[filtered_data['home_team_goal'] > filtered_data['away_team_goal']]['team_long_name_home'].value_counts()\n",
    "    away_wins = filtered_data[filtered_data['away_team_goal'] > filtered_data['home_team_goal']]['team_long_name_away'].value_counts()\n",
    "    \n",
    "    total_wins = home_wins.add(away_wins, fill_value=0)\n",
    "    \n",
    "    top_10_teams = total_wins.nlargest(10)\n",
    "    \n",
    "    plt.figure(figsize=(10, 6))\n",
    "    sns.barplot(x=top_10_teams.values, y=top_10_teams.index)\n",
    "    plt.xticks(rotation=90)\n",
    "    plt.title(f\"Top 10 Teams with the Highest Wins in {year}\")\n",
    "    plt.xlabel(\"Number of Wins\")\n",
    "    plt.ylabel(\"Team\")\n",
    "    plt.show()\n",
    "\n",
    "display(year_dropdown)\n",
    "widgets.interact(update_plot, year=year_dropdown)"
   ]
  },
  {
   "cell_type": "markdown",
   "id": "bcb00314",
   "metadata": {
    "papermill": {
     "duration": 0.009265,
     "end_time": "2023-09-10T16:28:29.656184",
     "exception": false,
     "start_time": "2023-09-10T16:28:29.646919",
     "status": "completed"
    },
    "tags": []
   },
   "source": [
    "# **Arsenal**"
   ]
  },
  {
   "cell_type": "code",
   "execution_count": 8,
   "id": "f0001fae",
   "metadata": {
    "execution": {
     "iopub.execute_input": "2023-09-10T16:28:29.676023Z",
     "iopub.status.busy": "2023-09-10T16:28:29.675667Z",
     "iopub.status.idle": "2023-09-10T16:28:29.726657Z",
     "shell.execute_reply": "2023-09-10T16:28:29.725576Z"
    },
    "papermill": {
     "duration": 0.063854,
     "end_time": "2023-09-10T16:28:29.729294",
     "exception": false,
     "start_time": "2023-09-10T16:28:29.665440",
     "status": "completed"
    },
    "tags": []
   },
   "outputs": [
    {
     "data": {
      "text/html": [
       "<div>\n",
       "<style scoped>\n",
       "    .dataframe tbody tr th:only-of-type {\n",
       "        vertical-align: middle;\n",
       "    }\n",
       "\n",
       "    .dataframe tbody tr th {\n",
       "        vertical-align: top;\n",
       "    }\n",
       "\n",
       "    .dataframe thead th {\n",
       "        text-align: right;\n",
       "    }\n",
       "</style>\n",
       "<table border=\"1\" class=\"dataframe\">\n",
       "  <thead>\n",
       "    <tr style=\"text-align: right;\">\n",
       "      <th></th>\n",
       "      <th>id</th>\n",
       "      <th>team_api_id</th>\n",
       "      <th>team_fifa_api_id</th>\n",
       "      <th>team_long_name</th>\n",
       "      <th>team_short_name</th>\n",
       "    </tr>\n",
       "  </thead>\n",
       "  <tbody>\n",
       "    <tr>\n",
       "      <th>0</th>\n",
       "      <td>3459</td>\n",
       "      <td>9825</td>\n",
       "      <td>1</td>\n",
       "      <td>Arsenal</td>\n",
       "      <td>ARS</td>\n",
       "    </tr>\n",
       "  </tbody>\n",
       "</table>\n",
       "</div>"
      ],
      "text/plain": [
       "     id  team_api_id  team_fifa_api_id team_long_name team_short_name\n",
       "0  3459         9825                 1        Arsenal             ARS"
      ]
     },
     "execution_count": 8,
     "metadata": {},
     "output_type": "execute_result"
    }
   ],
   "source": [
    "Arsenalid = pd.read_sql(\n",
    "\"\"\"\n",
    "select *\n",
    "from team\n",
    "where team_long_name = \"Arsenal\"\n",
    "\"\"\", conn\n",
    ")\n",
    "Arsenalid"
   ]
  },
  {
   "cell_type": "code",
   "execution_count": 9,
   "id": "6d463a2c",
   "metadata": {
    "execution": {
     "iopub.execute_input": "2023-09-10T16:28:29.751404Z",
     "iopub.status.busy": "2023-09-10T16:28:29.751089Z",
     "iopub.status.idle": "2023-09-10T16:28:30.089122Z",
     "shell.execute_reply": "2023-09-10T16:28:30.088172Z"
    },
    "papermill": {
     "duration": 0.35081,
     "end_time": "2023-09-10T16:28:30.091212",
     "exception": false,
     "start_time": "2023-09-10T16:28:29.740402",
     "status": "completed"
    },
    "tags": []
   },
   "outputs": [
    {
     "data": {
      "image/png": "[encoded data removed]",
      "text/plain": [
       "<Figure size 1000x600 with 1 Axes>"
      ]
     },
     "metadata": {},
     "output_type": "display_data"
    }
   ],
   "source": [
    "team_matches = matches[(matches['home_team_api_id'] == 9825) | (matches['away_team_api_id'] == 9825)]\n",
    "\n",
    "team_wins = team_matches.apply(lambda row: 1 if (row['home_team_api_id'] == 9825 and row['home_team_goal'] > row['away_team_goal']) or (row['away_team_api_id'] == 9825 and row['away_team_goal'] > row['home_team_goal']) else 0, axis=1)\n",
    "\n",
    "team_wins_data = pd.DataFrame({'Year': team_matches['Year'], 'Wins': team_wins})\n",
    "team_wins_data = team_wins_data.groupby('Year').sum()\n",
    "\n",
    "plt.figure(figsize=(10, 6))\n",
    "team_wins_data['Wins'].plot(kind='bar', label='Wins')\n",
    "plt.title('Team Wins Over the Years')\n",
    "plt.xlabel('Year')\n",
    "plt.ylabel('Number of Wins')\n",
    "plt.legend()\n",
    "plt.show()"
   ]
  },
  {
   "cell_type": "code",
   "execution_count": 10,
   "id": "98e1a8c9",
   "metadata": {
    "execution": {
     "iopub.execute_input": "2023-09-10T16:28:30.113601Z",
     "iopub.status.busy": "2023-09-10T16:28:30.112745Z",
     "iopub.status.idle": "2023-09-10T16:28:30.480140Z",
     "shell.execute_reply": "2023-09-10T16:28:30.479237Z"
    },
    "papermill": {
     "duration": 0.380863,
     "end_time": "2023-09-10T16:28:30.482555",
     "exception": false,
     "start_time": "2023-09-10T16:28:30.101692",
     "status": "completed"
    },
    "tags": []
   },
   "outputs": [
    {
     "data": {
      "image/png": "[encoded data removed]",
      "text/plain": [
       "<Figure size 1000x600 with 1 Axes>"
      ]
     },
     "metadata": {},
     "output_type": "display_data"
    }
   ],
   "source": [
    "team_matches = matches[(matches['home_team_api_id'] == 9825) | (matches['away_team_api_id'] == 9825)]\n",
    "team_goals_scored = team_matches.apply(lambda row: row['home_team_goal'] if row['home_team_api_id'] == 9825 else row['away_team_goal'], axis=1)\n",
    "team_goals_conceded = team_matches.apply(lambda row: row['away_team_goal'] if row['home_team_api_id'] == 9825 else row['home_team_goal'], axis=1)\n",
    "\n",
    "team_data = pd.DataFrame({'Year': team_matches['Year'], 'Wins': team_wins, 'Goals Scored': team_goals_scored, 'Goals Conceded': team_goals_conceded})\n",
    "team_data = team_data.groupby('Year').sum()\n",
    "\n",
    "plt.figure(figsize=(10, 6))\n",
    "team_data['Goals Scored'].plot(label='Goals Scored')\n",
    "team_data['Goals Conceded'].plot(label='Goals Conceded')\n",
    "plt.title('Goals Scored and Conceded Over the Years')\n",
    "plt.xlabel('Year')\n",
    "plt.ylabel('Count')\n",
    "plt.legend()\n",
    "plt.show()"
   ]
  },
  {
   "cell_type": "markdown",
   "id": "0490dc27",
   "metadata": {
    "papermill": {
     "duration": 0.010446,
     "end_time": "2023-09-10T16:28:30.503859",
     "exception": false,
     "start_time": "2023-09-10T16:28:30.493413",
     "status": "completed"
    },
    "tags": []
   },
   "source": [
    "# **According to FIFA, did the players who played in 2013 reach their potential in 2015?**"
   ]
  },
  {
   "cell_type": "code",
   "execution_count": 11,
   "id": "cb74d04a",
   "metadata": {
    "execution": {
     "iopub.execute_input": "2023-09-10T16:28:30.526403Z",
     "iopub.status.busy": "2023-09-10T16:28:30.526090Z",
     "iopub.status.idle": "2023-09-10T16:28:30.638022Z",
     "shell.execute_reply": "2023-09-10T16:28:30.636879Z"
    },
    "papermill": {
     "duration": 0.126089,
     "end_time": "2023-09-10T16:28:30.640731",
     "exception": false,
     "start_time": "2023-09-10T16:28:30.514642",
     "status": "completed"
    },
    "tags": []
   },
   "outputs": [
    {
     "data": {
      "text/plain": [
       "0.7354182902349023"
      ]
     },
     "execution_count": 11,
     "metadata": {},
     "output_type": "execute_result"
    }
   ],
   "source": [
    "Player_detail['date'] = pd.to_datetime(Player_detail['date'])\n",
    "Player_detail['Year'] = Player_detail['date'].dt.year\n",
    "\n",
    "potential_2013 = Player_detail[Player_detail['Year'] == 2013][['player_api_id', 'potential']]\n",
    "overall_rating_2015 = Player_detail[Player_detail['Year'] == 2015][['player_api_id', 'overall_rating']]\n",
    "\n",
    "merged_data = pd.merge(potential_2013, overall_rating_2015, on='player_api_id', how='inner')\n",
    "\n",
    "correlation_coefficient = merged_data['potential'].corr(merged_data['overall_rating'])\n",
    "correlation_coefficient"
   ]
  }
 ],
 "kernelspec": {
  "display_name": "Python 3",
  "language": "python",
  "name": "python3"
 },
 "language_info": {
  "codemirror_mode": {
   "name": "ipython",
   "version": 3
  },
  "file_extension": ".py",
  "mimetype": "text/x-python",
  "name": "python",
  "nbconvert_exporter": "python",
  "pygments_lexer": "ipython3",
  "version": "3.6.4"
 },
 "metadata": {
  "kernelspec": {
   "display_name": "Python 3",
   "language": "python",
   "name": "python3"
  },
  "language_info": {
   "codemirror_mode": {
    "name": "ipython",
    "version": 3
   },
   "file_extension": ".py",
   "mimetype": "text/x-python",
   "name": "python",
   "nbconvert_exporter": "python",
   "pygments_lexer": "ipython3",
   "version": "3.10.12"
  },
  "papermill": {
   "default_parameters": {},
   "duration": 90.51527,
   "end_time": "2023-09-10T16:28:31.171775",
   "environment_variables": {},
   "exception": null,
   "input_path": "__notebook__.ipynb",
   "output_path": "__notebook__.ipynb",
   "parameters": {},
   "start_time": "2023-09-10T16:27:00.656505",
   "version": "2.4.0"
  },
  "widgets": {
   "application/vnd.jupyter.widget-state+json": {
    "state": {
     "1a8561e4ffdd4d09bd18666d4bf51cff": {
      "model_module": "@jupyter-widgets/base",
      "model_module_version": "1.2.0",
      "model_name": "LayoutModel",
      "state": {
       "_model_module": "@jupyter-widgets/base",
       "_model_module_version": "1.2.0",
       "_model_name": "LayoutModel",
       "_view_count": null,
       "_view_module": "@jupyter-widgets/base",
       "_view_module_version": "1.2.0",
       "_view_name": "LayoutView",
       "align_content": null,
       "align_items": null,
       "align_self": null,
       "border": null,
       "bottom": null,
       "display": null,
       "flex": null,
       "flex_flow": null,
       "grid_area": null,
       "grid_auto_columns": null,
       "grid_auto_flow": null,
       "grid_auto_rows": null,
       "grid_column": null,
       "grid_gap": null,
       "grid_row": null,
       "grid_template_areas": null,
       "grid_template_columns": null,
       "grid_template_rows": null,
       "height": null,
       "justify_content": null,
       "justify_items": null,
       "left": null,
       "margin": null,
       "max_height": null,
       "max_width": null,
       "min_height": null,
       "min_width": null,
       "object_fit": null,
       "object_position": null,
       "order": null,
       "overflow": null,
       "overflow_x": null,
       "overflow_y": null,
       "padding": null,
       "right": null,
       "top": null,
       "visibility": null,
       "width": null
      }
     },
     "1b56891a15644a048293f917e60841e4": {
      "model_module": "@jupyter-widgets/output",
      "model_module_version": "1.0.0",
      "model_name": "OutputModel",
      "state": {
       "_dom_classes": [],
       "_model_module": "@jupyter-widgets/output",
       "_model_module_version": "1.0.0",
       "_model_name": "OutputModel",
       "_view_count": null,
       "_view_module": "@jupyter-widgets/output",
       "_view_module_version": "1.0.0",
       "_view_name": "OutputView",
       "layout": "IPY_MODEL_1a8561e4ffdd4d09bd18666d4bf51cff",
       "msg_id": "",
       "outputs": [
        {
         "data": {
          "image/png": "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",
          "text/plain": "<Figure size 1000x600 with 1 Axes>"
         },
         "metadata": {},
         "output_type": "display_data"
        }
       ]
      }
     },
     "38c65e94534c4b5ca1574f88499f6849": {
      "model_module": "@jupyter-widgets/controls",
      "model_module_version": "1.5.0",
      "model_name": "DropdownModel",
      "state": {
       "_dom_classes": [],
       "_model_module": "@jupyter-widgets/controls",
       "_model_module_version": "1.5.0",
       "_model_name": "DropdownModel",
       "_options_labels": [
        "2008",
        "2009",
        "2010",
        "2011",
        "2012",
        "2013",
        "2014",
        "2015",
        "2016"
       ],
       "_view_count": null,
       "_view_module": "@jupyter-widgets/controls",
       "_view_module_version": "1.5.0",
       "_view_name": "DropdownView",
       "description": "Select Year",
       "description_tooltip": null,
       "disabled": false,
       "index": 0,
       "layout": "IPY_MODEL_8bb796d1c2d746efa4a5f40d564b3d4c",
       "style": "IPY_MODEL_aac3c7b76f6049239f207d28e1931e81"
      }
     },
     "4b242c6a3f814ad292543714a51732d4": {
      "model_module": "@jupyter-widgets/base",
      "model_module_version": "1.2.0",
      "model_name": "LayoutModel",
      "state": {
       "_model_module": "@jupyter-widgets/base",
       "_model_module_version": "1.2.0",
       "_model_name": "LayoutModel",
       "_view_count": null,
       "_view_module": "@jupyter-widgets/base",
       "_view_module_version": "1.2.0",
       "_view_name": "LayoutView",
       "align_content": null,
       "align_items": null,
       "align_self": null,
       "border": null,
       "bottom": null,
       "display": null,
       "flex": null,
       "flex_flow": null,
       "grid_area": null,
       "grid_auto_columns": null,
       "grid_auto_flow": null,
       "grid_auto_rows": null,
       "grid_column": null,
       "grid_gap": null,
       "grid_row": null,
       "grid_template_areas": null,
       "grid_template_columns": null,
       "grid_template_rows": null,
       "height": null,
       "justify_content": null,
       "justify_items": null,
       "left": null,
       "margin": null,
       "max_height": null,
       "max_width": null,
       "min_height": null,
       "min_width": null,
       "object_fit": null,
       "object_position": null,
       "order": null,
       "overflow": null,
       "overflow_x": null,
       "overflow_y": null,
       "padding": null,
       "right": null,
       "top": null,
       "visibility": null,
       "width": null
      }
     },
     "61c01d10fe6a4abbade89f593b3ccdef": {
      "model_module": "@jupyter-widgets/controls",
      "model_module_version": "1.5.0",
      "model_name": "VBoxModel",
      "state": {
       "_dom_classes": [
        "widget-interact"
       ],
       "_model_module": "@jupyter-widgets/controls",
       "_model_module_version": "1.5.0",
       "_model_name": "VBoxModel",
       "_view_count": null,
       "_view_module": "@jupyter-widgets/controls",
       "_view_module_version": "1.5.0",
       "_view_name": "VBoxView",
       "box_style": "",
       "children": [
        "IPY_MODEL_38c65e94534c4b5ca1574f88499f6849",
        "IPY_MODEL_e74564e7de984d82be5004a83721090e"
       ],
       "layout": "IPY_MODEL_4b242c6a3f814ad292543714a51732d4"
      }
     },
     "83192b591cf04beb843ac53ba2520c1e": {
      "model_module": "@jupyter-widgets/controls",
      "model_module_version": "1.5.0",
      "model_name": "DropdownModel",
      "state": {
       "_dom_classes": [],
       "_model_module": "@jupyter-widgets/controls",
       "_model_module_version": "1.5.0",
       "_model_name": "DropdownModel",
       "_options_labels": [
        "2008",
        "2009",
        "2010",
        "2011",
        "2012",
        "2013",
        "2014",
        "2015",
        "2016"
       ],
       "_view_count": null,
       "_view_module": "@jupyter-widgets/controls",
       "_view_module_version": "1.5.0",
       "_view_name": "DropdownView",
       "description": "Select Year",
       "description_tooltip": null,
       "disabled": false,
       "index": 0,
       "layout": "IPY_MODEL_a3394c4dbd9447a18ddebfc064d4c06a",
       "style": "IPY_MODEL_840e47bcdd494272a3440b4df46f5bf4"
      }
     },
     "840e47bcdd494272a3440b4df46f5bf4": {
      "model_module": "@jupyter-widgets/controls",
      "model_module_version": "1.5.0",
      "model_name": "DescriptionStyleModel",
      "state": {
       "_model_module": "@jupyter-widgets/controls",
       "_model_module_version": "1.5.0",
       "_model_name": "DescriptionStyleModel",
       "_view_count": null,
       "_view_module": "@jupyter-widgets/base",
       "_view_module_version": "1.2.0",
       "_view_name": "StyleView",
       "description_width": ""
      }
     },
     "8bb796d1c2d746efa4a5f40d564b3d4c": {
      "model_module": "@jupyter-widgets/base",
      "model_module_version": "1.2.0",
      "model_name": "LayoutModel",
      "state": {
       "_model_module": "@jupyter-widgets/base",
       "_model_module_version": "1.2.0",
       "_model_name": "LayoutModel",
       "_view_count": null,
       "_view_module": "@jupyter-widgets/base",
       "_view_module_version": "1.2.0",
       "_view_name": "LayoutView",
       "align_content": null,
       "align_items": null,
       "align_self": null,
       "border": null,
       "bottom": null,
       "display": null,
       "flex": null,
       "flex_flow": null,
       "grid_area": null,
       "grid_auto_columns": null,
       "grid_auto_flow": null,
       "grid_auto_rows": null,
       "grid_column": null,
       "grid_gap": null,
       "grid_row": null,
       "grid_template_areas": null,
       "grid_template_columns": null,
       "grid_template_rows": null,
       "height": null,
       "justify_content": null,
       "justify_items": null,
       "left": null,
       "margin": null,
       "max_height": null,
       "max_width": null,
       "min_height": null,
       "min_width": null,
       "object_fit": null,
       "object_position": null,
       "order": null,
       "overflow": null,
       "overflow_x": null,
       "overflow_y": null,
       "padding": null,
       "right": null,
       "top": null,
       "visibility": null,
       "width": null
      }
     },
     "a3394c4dbd9447a18ddebfc064d4c06a": {
      "model_module": "@jupyter-widgets/base",
      "model_module_version": "1.2.0",
      "model_name": "LayoutModel",
      "state": {
       "_model_module": "@jupyter-widgets/base",
       "_model_module_version": "1.2.0",
       "_model_name": "LayoutModel",
       "_view_count": null,
       "_view_module": "@jupyter-widgets/base",
       "_view_module_version": "1.2.0",
       "_view_name": "LayoutView",
       "align_content": null,
       "align_items": null,
       "align_self": null,
       "border": null,
       "bottom": null,
       "display": null,
       "flex": null,
       "flex_flow": null,
       "grid_area": null,
       "grid_auto_columns": null,
       "grid_auto_flow": null,
       "grid_auto_rows": null,
       "grid_column": null,
       "grid_gap": null,
       "grid_row": null,
       "grid_template_areas": null,
       "grid_template_columns": null,
       "grid_template_rows": null,
       "height": null,
       "justify_content": null,
       "justify_items": null,
       "left": null,
       "margin": null,
       "max_height": null,
       "max_width": null,
       "min_height": null,
       "min_width": null,
       "object_fit": null,
       "object_position": null,
       "order": null,
       "overflow": null,
       "overflow_x": null,
       "overflow_y": null,
       "padding": null,
       "right": null,
       "top": null,
       "visibility": null,
       "width": null
      }
     },
     "aac3c7b76f6049239f207d28e1931e81": {
      "model_module": "@jupyter-widgets/controls",
      "model_module_version": "1.5.0",
      "model_name": "DescriptionStyleModel",
      "state": {
       "_model_module": "@jupyter-widgets/controls",
       "_model_module_version": "1.5.0",
       "_model_name": "DescriptionStyleModel",
       "_view_count": null,
       "_view_module": "@jupyter-widgets/base",
       "_view_module_version": "1.2.0",
       "_view_name": "StyleView",
       "description_width": ""
      }
     },
     "ba2911876bcc40ddb916b65a9dec0858": {
      "model_module": "@jupyter-widgets/controls",
      "model_module_version": "1.5.0",
      "model_name": "VBoxModel",
      "state": {
       "_dom_classes": [
        "widget-interact"
       ],
       "_model_module": "@jupyter-widgets/controls",
       "_model_module_version": "1.5.0",
       "_model_name": "VBoxModel",
       "_view_count": null,
       "_view_module": "@jupyter-widgets/controls",
       "_view_module_version": "1.5.0",
       "_view_name": "VBoxView",
       "box_style": "",
       "children": [
        "IPY_MODEL_83192b591cf04beb843ac53ba2520c1e",
        "IPY_MODEL_1b56891a15644a048293f917e60841e4"
       ],
       "layout": "IPY_MODEL_fea7eef8de5c493783bac0b753de3327"
      }
     },
     "d5b2e86b61d84db1843813e90b6d5c3c": {
      "model_module": "@jupyter-widgets/base",
      "model_module_version": "1.2.0",
      "model_name": "LayoutModel",
      "state": {
       "_model_module": "@jupyter-widgets/base",
       "_model_module_version": "1.2.0",
       "_model_name": "LayoutModel",
       "_view_count": null,
       "_view_module": "@jupyter-widgets/base",
       "_view_module_version": "1.2.0",
       "_view_name": "LayoutView",
       "align_content": null,
       "align_items": null,
       "align_self": null,
       "border": null,
       "bottom": null,
       "display": null,
       "flex": null,
       "flex_flow": null,
       "grid_area": null,
       "grid_auto_columns": null,
       "grid_auto_flow": null,
       "grid_auto_rows": null,
       "grid_column": null,
       "grid_gap": null,
       "grid_row": null,
       "grid_template_areas": null,
       "grid_template_columns": null,
       "grid_template_rows": null,
       "height": null,
       "justify_content": null,
       "justify_items": null,
       "left": null,
       "margin": null,
       "max_height": null,
       "max_width": null,
       "min_height": null,
       "min_width": null,
       "object_fit": null,
       "object_position": null,
       "order": null,
       "overflow": null,
       "overflow_x": null,
       "overflow_y": null,
       "padding": null,
       "right": null,
       "top": null,
       "visibility": null,
       "width": null
      }
     },
     "e74564e7de984d82be5004a83721090e": {
      "model_module": "@jupyter-widgets/output",
      "model_module_version": "1.0.0",
      "model_name": "OutputModel",
      "state": {
       "_dom_classes": [],
       "_model_module": "@jupyter-widgets/output",
       "_model_module_version": "1.0.0",
       "_model_name": "OutputModel",
       "_view_count": null,
       "_view_module": "@jupyter-widgets/output",
       "_view_module_version": "1.0.0",
       "_view_name": "OutputView",
       "layout": "IPY_MODEL_d5b2e86b61d84db1843813e90b6d5c3c",
       "msg_id": "",
       "outputs": [
        {
         "data": {
          "image/png": "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",
          "text/plain": "<Figure size 1000x600 with 1 Axes>"
         },
         "metadata": {},
         "output_type": "display_data"
        }
       ]
      }
     },
     "fea7eef8de5c493783bac0b753de3327": {
      "model_module": "@jupyter-widgets/base",
      "model_module_version": "1.2.0",
      "model_name": "LayoutModel",
      "state": {
       "_model_module": "@jupyter-widgets/base",
       "_model_module_version": "1.2.0",
       "_model_name": "LayoutModel",
       "_view_count": null,
       "_view_module": "@jupyter-widgets/base",
       "_view_module_version": "1.2.0",
       "_view_name": "LayoutView",
       "align_content": null,
       "align_items": null,
       "align_self": null,
       "border": null,
       "bottom": null,
       "display": null,
       "flex": null,
       "flex_flow": null,
       "grid_area": null,
       "grid_auto_columns": null,
       "grid_auto_flow": null,
       "grid_auto_rows": null,
       "grid_column": null,
       "grid_gap": null,
       "grid_row": null,
       "grid_template_areas": null,
       "grid_template_columns": null,
       "grid_template_rows": null,
       "height": null,
       "justify_content": null,
       "justify_items": null,
       "left": null,
       "margin": null,
       "max_height": null,
       "max_width": null,
       "min_height": null,
       "min_width": null,
       "object_fit": null,
       "object_position": null,
       "order": null,
       "overflow": null,
       "overflow_x": null,
       "overflow_y": null,
       "padding": null,
       "right": null,
       "top": null,
       "visibility": null,
       "width": null
      }
     }
    },
    "version_major": 2,
    "version_minor": 0
   }
  }
 },
 "nbformat": 4,
 "nbformat_minor": 5
}
